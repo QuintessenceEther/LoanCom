{
 "cells": [
  {
   "cell_type": "code",
   "execution_count": null,
   "id": "5f5135fb",
   "metadata": {
    "vscode": {
     "languageId": "plaintext"
    }
   },
   "outputs": [],
   "source": [
    "import catboost"
   ]
  }
 ],
 "metadata": {
  "language_info": {
   "name": "python"
  }
 },
 "nbformat": 4,
 "nbformat_minor": 5
}
