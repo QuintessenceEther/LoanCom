{
 "cells": [
  {
   "cell_type": "code",
   "execution_count": 50,
   "id": "df77404b",
   "metadata": {},
   "outputs": [],
   "source": [
    "import pandas as pd    \n",
    "import numpy as np    \n",
    "import matplotlib.pyplot as plt    \n",
    "import seaborn as sns    \n",
    "import datetime    \n",
    "import warnings    \n",
    "warnings.filterwarnings('ignore')"
   ]
  },
  {
   "cell_type": "markdown",
   "id": "6b05fa3c",
   "metadata": {},
   "source": [
    "#### 1.文件读取"
   ]
  },
  {
   "cell_type": "code",
   "execution_count": 51,
   "id": "2776c5c3",
   "metadata": {},
   "outputs": [],
   "source": [
    "data_train = pd.read_csv('data/train.csv')\n",
    "data_test_a = pd.read_csv('data/testA.csv')"
   ]
  },
  {
   "cell_type": "markdown",
   "id": "ca580e98",
   "metadata": {},
   "source": [
    "#### 2.原始数据观察"
   ]
  },
  {
   "cell_type": "markdown",
   "id": "d2158477",
   "metadata": {},
   "source": [
    "##### 2.1训练集个数与维度"
   ]
  },
  {
   "cell_type": "code",
   "execution_count": 52,
   "id": "8dc62a98",
   "metadata": {},
   "outputs": [
    {
     "data": {
      "text/plain": [
       "(800000, 47)"
      ]
     },
     "execution_count": 52,
     "metadata": {},
     "output_type": "execute_result"
    }
   ],
   "source": [
    "data_train.shape"
   ]
  },
  {
   "cell_type": "markdown",
   "id": "3fb6c5cd",
   "metadata": {},
   "source": [
    "##### 2.2测试集个数与维度"
   ]
  },
  {
   "cell_type": "code",
   "execution_count": 53,
   "id": "222d17b6",
   "metadata": {},
   "outputs": [
    {
     "data": {
      "text/plain": [
       "(200000, 46)"
      ]
     },
     "execution_count": 53,
     "metadata": {},
     "output_type": "execute_result"
    }
   ],
   "source": [
    "data_test_a.shape"
   ]
  },
  {
   "cell_type": "markdown",
   "id": "d07039e1",
   "metadata": {},
   "source": [
    "##### 2.3数据类型"
   ]
  },
  {
   "cell_type": "code",
   "execution_count": 54,
   "id": "42bbb72d",
   "metadata": {},
   "outputs": [
    {
     "name": "stdout",
     "output_type": "stream",
     "text": [
      "<class 'pandas.core.frame.DataFrame'>\n",
      "RangeIndex: 800000 entries, 0 to 799999\n",
      "Data columns (total 47 columns):\n",
      " #   Column              Non-Null Count   Dtype  \n",
      "---  ------              --------------   -----  \n",
      " 0   id                  800000 non-null  int64  \n",
      " 1   loanAmnt            800000 non-null  float64\n",
      " 2   term                800000 non-null  int64  \n",
      " 3   interestRate        800000 non-null  float64\n",
      " 4   installment         800000 non-null  float64\n",
      " 5   grade               800000 non-null  object \n",
      " 6   subGrade            800000 non-null  object \n",
      " 7   employmentTitle     799999 non-null  float64\n",
      " 8   employmentLength    753201 non-null  object \n",
      " 9   homeOwnership       800000 non-null  int64  \n",
      " 10  annualIncome        800000 non-null  float64\n",
      " 11  verificationStatus  800000 non-null  int64  \n",
      " 12  issueDate           800000 non-null  object \n",
      " 13  isDefault           800000 non-null  int64  \n",
      " 14  purpose             800000 non-null  int64  \n",
      " 15  postCode            799999 non-null  float64\n",
      " 16  regionCode          800000 non-null  int64  \n",
      " 17  dti                 799761 non-null  float64\n",
      " 18  delinquency_2years  800000 non-null  float64\n",
      " 19  ficoRangeLow        800000 non-null  float64\n",
      " 20  ficoRangeHigh       800000 non-null  float64\n",
      " 21  openAcc             800000 non-null  float64\n",
      " 22  pubRec              800000 non-null  float64\n",
      " 23  pubRecBankruptcies  799595 non-null  float64\n",
      " 24  revolBal            800000 non-null  float64\n",
      " 25  revolUtil           799469 non-null  float64\n",
      " 26  totalAcc            800000 non-null  float64\n",
      " 27  initialListStatus   800000 non-null  int64  \n",
      " 28  applicationType     800000 non-null  int64  \n",
      " 29  earliesCreditLine   800000 non-null  object \n",
      " 30  title               799999 non-null  float64\n",
      " 31  policyCode          800000 non-null  float64\n",
      " 32  n0                  759730 non-null  float64\n",
      " 33  n1                  759730 non-null  float64\n",
      " 34  n2                  759730 non-null  float64\n",
      " 35  n3                  759730 non-null  float64\n",
      " 36  n4                  766761 non-null  float64\n",
      " 37  n5                  759730 non-null  float64\n",
      " 38  n6                  759730 non-null  float64\n",
      " 39  n7                  759730 non-null  float64\n",
      " 40  n8                  759729 non-null  float64\n",
      " 41  n9                  759730 non-null  float64\n",
      " 42  n10                 766761 non-null  float64\n",
      " 43  n11                 730248 non-null  float64\n",
      " 44  n12                 759730 non-null  float64\n",
      " 45  n13                 759730 non-null  float64\n",
      " 46  n14                 759730 non-null  float64\n",
      "dtypes: float64(33), int64(9), object(5)\n",
      "memory usage: 286.9+ MB\n"
     ]
    }
   ],
   "source": [
    "data_train.info()"
   ]
  },
  {
   "cell_type": "markdown",
   "id": "458987ae",
   "metadata": {},
   "source": [
    "### 3.数据缺失值与唯一值"
   ]
  },
  {
   "cell_type": "code",
   "execution_count": 55,
   "id": "c165fafc",
   "metadata": {},
   "outputs": [
    {
     "name": "stdout",
     "output_type": "stream",
     "text": [
      "There are 22 columns in train dataset with missing values.\n"
     ]
    },
    {
     "data": {
      "text/plain": [
       "<Axes: >"
      ]
     },
     "execution_count": 55,
     "metadata": {},
     "output_type": "execute_result"
    },
    {
     "data": {
      "image/png": "[encoded data removed]",
      "text/plain": [
       "<Figure size 640x480 with 1 Axes>"
      ]
     },
     "metadata": {},
     "output_type": "display_data"
    }
   ],
   "source": [
    "#总缺失值\n",
    "print(f'There are {data_train.isnull().any().sum()} columns in train dataset with missing values.')\n",
    "#确实率过50%的缺失值\n",
    "have_null_fea_dict = (data_train.isnull().sum()/len(data_train)).to_dict()    \n",
    "fea_null_moreThanHalf = {}    \n",
    "for key,value in have_null_fea_dict.items():    \n",
    "    if value > 0.5:    \n",
    "        fea_null_moreThanHalf[key] = value\n",
    "fea_null_moreThanHalf\n",
    "#nan可视化    \n",
    "missing = data_train.isnull().sum()/len(data_train)    \n",
    "missing = missing[missing > 0]    \n",
    "missing.sort_values(inplace=True)    \n",
    "missing.plot.bar()"
   ]
  },
  {
   "cell_type": "code",
   "execution_count": 56,
   "id": "eb68131a",
   "metadata": {},
   "outputs": [
    {
     "name": "stdout",
     "output_type": "stream",
     "text": [
      "There are 1 columns in train dataset with one unique value. ['policyCode']\n",
      "There are 1 columns in test dataset with one unique value. ['policyCode']\n"
     ]
    }
   ],
   "source": [
    "one_value_fea = [col for col in data_train.columns if data_train[col].nunique() <= 1]\n",
    "one_value_fea_test = [col for col in data_test_a.columns if data_test_a[col].nunique() <= 1]\n",
    "print(f'There are {len(one_value_fea)} columns in train dataset with one unique value.',one_value_fea)    \n",
    "print(f'There are {len(one_value_fea_test)} columns in test dataset with one unique value.',one_value_fea_test)"
   ]
  },
  {
   "cell_type": "code",
   "execution_count": 57,
   "id": "f7d344e7",
   "metadata": {},
   "outputs": [],
   "source": [
    "#去掉唯一值与id\n",
    "data_train.drop('id', axis=1, inplace = True)\n",
    "data_train.drop('policyCode', axis=1, inplace = True)    "
   ]
  },
  {
   "cell_type": "markdown",
   "id": "cbc02019",
   "metadata": {},
   "source": [
    "### 4.利用IV值挑选特征"
   ]
  },
  {
   "cell_type": "code",
   "execution_count": 58,
   "id": "a3767c96",
   "metadata": {},
   "outputs": [
    {
     "name": "stdout",
     "output_type": "stream",
     "text": [
      "0.1.0\n"
     ]
    }
   ],
   "source": [
    "print(toad.__version__)"
   ]
  },
  {
   "cell_type": "code",
   "execution_count": 59,
   "id": "22ff3323",
   "metadata": {},
   "outputs": [
    {
     "data": {
      "text/plain": [
       "\"\\npd.DataFrame.iteritems = pd.DataFrame.items  # 动态替换方法\\nimport toad  # 必须在补丁后导入\\ntoad.quality(data_train, target='isDefault', cpu_cores=0, iv_only=False)\\n# PS:若只想参考IV值，可以将iv_only=True，不然需要耗费很多时间\\n\""
      ]
     },
     "execution_count": 59,
     "metadata": {},
     "output_type": "execute_result"
    }
   ],
   "source": [
    "'''\n",
    "pd.DataFrame.iteritems = pd.DataFrame.items  # 动态替换方法\n",
    "import toad  # 必须在补丁后导入\n",
    "toad.quality(data_train, target='isDefault', cpu_cores=0, iv_only=False)\n",
    "# PS:若只想参考IV值，可以将iv_only=True，不然需要耗费很多时间\n",
    "'''"
   ]
  },
  {
   "cell_type": "code",
   "execution_count": 60,
   "id": "9c5b58e3",
   "metadata": {},
   "outputs": [],
   "source": [
    "# 删除无预测能力的特征\n",
    "for data in [data_train, data_test_a]:\n",
    "    data.drop('n5', axis=1, inplace = True)            \n",
    "    data.drop('n0', axis=1, inplace = True)\n",
    "    data.drop('regionCode', axis=1, inplace = True)            \n",
    "    data.drop('n4', axis=1, inplace = True)\n",
    "    data.drop('n13', axis=1, inplace = True)            \n",
    "    data.drop('n6', axis=1, inplace = True)\n",
    "    data.drop('pubRec', axis=1, inplace = True)            \n",
    "    data.drop('n8', axis=1, inplace = True)\n",
    "    data.drop('revolBal', axis=1, inplace = True)            \n",
    "    data.drop('openAcc', axis=1, inplace = True)\n",
    "    data.drop('postCode', axis=1, inplace = True)            \n",
    "    data.drop('pubRecBankruptcies', axis=1, inplace = True)\n",
    "    data.drop('delinquency_2years', axis=1, inplace = True)            \n",
    "    data.drop('totalAcc', axis=1, inplace = True)\n",
    "    data.drop('applicationType', axis=1, inplace = True)            \n",
    "    data.drop('n12', axis=1, inplace = True)\n",
    "    data.drop('initialListStatus', axis=1, inplace = True)            \n",
    "    data.drop('n11', axis=1, inplace = True)\n",
    "    data.drop('purpose', axis=1, inplace = True)            \n",
    "    data.drop('n1', axis=1, inplace = True)\n",
    "    data.drop('employmentLength', axis=1, inplace = True)            \n",
    "    data.drop('n7', axis=1, inplace = True)          \n",
    "    data.drop('n10', axis=1, inplace = True)"
   ]
  },
  {
   "cell_type": "markdown",
   "id": "205da649",
   "metadata": {},
   "source": [
    "### 5. 数值特征与类别特征"
   ]
  },
  {
   "cell_type": "code",
   "execution_count": 61,
   "id": "8d431ea6",
   "metadata": {},
   "outputs": [
    {
     "name": "stdout",
     "output_type": "stream",
     "text": [
      "<class 'pandas.core.frame.DataFrame'>\n",
      "RangeIndex: 800000 entries, 0 to 799999\n",
      "Data columns (total 22 columns):\n",
      " #   Column              Non-Null Count   Dtype  \n",
      "---  ------              --------------   -----  \n",
      " 0   loanAmnt            800000 non-null  float64\n",
      " 1   term                800000 non-null  int64  \n",
      " 2   interestRate        800000 non-null  float64\n",
      " 3   installment         800000 non-null  float64\n",
      " 4   grade               800000 non-null  object \n",
      " 5   subGrade            800000 non-null  object \n",
      " 6   employmentTitle     800000 non-null  float64\n",
      " 7   homeOwnership       800000 non-null  int64  \n",
      " 8   annualIncome        800000 non-null  float64\n",
      " 9   verificationStatus  800000 non-null  int64  \n",
      " 10  issueDate           800000 non-null  object \n",
      " 11  isDefault           800000 non-null  int64  \n",
      " 12  dti                 800000 non-null  float64\n",
      " 13  ficoRangeLow        800000 non-null  float64\n",
      " 14  ficoRangeHigh       800000 non-null  float64\n",
      " 15  revolUtil           800000 non-null  float64\n",
      " 16  earliesCreditLine   800000 non-null  object \n",
      " 17  title               800000 non-null  float64\n",
      " 18  n2                  800000 non-null  float64\n",
      " 19  n3                  800000 non-null  float64\n",
      " 20  n9                  800000 non-null  float64\n",
      " 21  n14                 800000 non-null  float64\n",
      "dtypes: float64(14), int64(4), object(4)\n",
      "memory usage: 134.3+ MB\n"
     ]
    }
   ],
   "source": [
    "# 两类特征进行分类\n",
    "numerical_fea = list(data_train.select_dtypes(exclude=['object']).columns)                # 数值特征\n",
    "category_fea = list(filter(lambda x: x not in numerical_fea, list(data_train.columns)))  # 类别特征 \n",
    " \n",
    "# 将 label 去除\n",
    "label = 'isDefault'\n",
    "numerical_fea.remove(label)\n",
    "# 按照中位数，填充数值型特征\n",
    "data_train[numerical_fea] = data_train[numerical_fea].fillna(data_train[numerical_fea].median())\n",
    "data_test_a[numerical_fea] = data_test_a[numerical_fea].fillna(data_test_a[numerical_fea].median())\n",
    "# 按照众数，填充类别型特征\n",
    "for cate_fea in category_fea:\n",
    "    data_train[cate_fea] = data_train[cate_fea].fillna(data_train[cate_fea].mode().values[0])\n",
    "    data_test_a[cate_fea] = data_test_a[cate_fea].fillna(data_test_a[cate_fea].mode().values[0])\n",
    "data_train.info()\n"
   ]
  },
  {
   "cell_type": "code",
   "execution_count": 62,
   "id": "852c1cdc",
   "metadata": {},
   "outputs": [
    {
     "data": {
      "text/plain": [
       "subGrade\n",
       "C1    50763\n",
       "B4    49516\n",
       "B5    48965\n",
       "B3    48600\n",
       "C2    47068\n",
       "C3    44751\n",
       "C4    44272\n",
       "B2    44227\n",
       "B1    42382\n",
       "C5    40264\n",
       "A5    38045\n",
       "A4    30928\n",
       "D1    30538\n",
       "D2    26528\n",
       "A1    25909\n",
       "D3    23410\n",
       "A3    22655\n",
       "A2    22124\n",
       "D4    21139\n",
       "D5    17838\n",
       "E1    14064\n",
       "E2    12746\n",
       "E3    10925\n",
       "E4     9273\n",
       "E5     8653\n",
       "F1     5925\n",
       "F2     4340\n",
       "F3     3577\n",
       "F4     2859\n",
       "F5     2352\n",
       "G1     1759\n",
       "G2     1231\n",
       "G3      978\n",
       "G4      751\n",
       "G5      645\n",
       "Name: count, dtype: int64"
      ]
     },
     "execution_count": 62,
     "metadata": {},
     "output_type": "execute_result"
    }
   ],
   "source": [
    "# 通过观察数据类型共有5个object类型，因此进行特征转换\n",
    "# 1. grade贷款等级共7个等级,观察分布\n",
    "data_train['grade'].value_counts()\n",
    "data_train['subGrade'].value_counts()"
   ]
  },
  {
   "cell_type": "code",
   "execution_count": 63,
   "id": "82f73115",
   "metadata": {},
   "outputs": [],
   "source": [
    "#对于有优先级的数据，采用自映射编码（其他办法？）\n",
    "# 1.grade\n",
    "for data in [data_train, data_test_a]:\n",
    "    data['grade'] = data['grade'].map({'A':1,'B':2,'C':3,'D':4,'E':5,'F':6,'G':7})\n",
    "# 2.subgrade\n",
    "# 该函数用于将 subGrade 转换为数值等级\n",
    "def get_sub_grade(grade, sub):\n",
    "    # 处理缺失值（NaN）和浮点数\n",
    "    if not isinstance(sub, str):\n",
    "        return 0  # 或 grade * 10 + 0（按业务逻辑调整） \n",
    "    # 确保字符串长度足够\n",
    "    if len(sub) < 2:\n",
    "        return 0\n",
    "    return grade*10+int(sub[1])\n",
    "for data in [data_train, data_test_a]:\n",
    "    data['subGrade'] = data.apply(lambda row: get_sub_grade(row['grade'],row['subGrade']), axis=1)\n",
    "# 3.issueDate\n",
    "import datetime\n",
    "for data in [data_train, data_test_a]:\n",
    "    data['issueDate'] = pd.to_datetime(data['issueDate'],format='%Y-%m-%d') # 将原始数据转换为 Pandas 的日期时间格式\n",
    "    startdate = datetime.datetime.strptime('2007-06-01', '%Y-%m-%d') # '2007-06-01'设定为开始日期\n",
    "    # 每个样本相对于 2007-06-01 的天数\n",
    "    data['issueDateDT'] = data['issueDate'].apply(lambda x: x-startdate).dt.days # dt.days 将 Timedelta 对象转换为天数\n",
    "# 4.earliesCreditLine\n",
    "for data in [data_train, data_test_a]:\n",
    "    data['earliesCreditLine'] = data['earliesCreditLine'].apply(lambda s: int(s[-4:])) # 只保留年份"
   ]
  },
  {
   "cell_type": "code",
   "execution_count": 65,
   "id": "93d153ef",
   "metadata": {},
   "outputs": [
    {
     "name": "stdout",
     "output_type": "stream",
     "text": [
      "连续型变量： ['loanAmnt', 'interestRate', 'installment', 'employmentTitle', 'annualIncome', 'dti', 'ficoRangeLow', 'ficoRangeHigh', 'revolUtil', 'title', 'n2', 'n3', 'n9', 'n14']\n",
      "离散型变量： ['term', 'homeOwnership', 'verificationStatus']\n"
     ]
    }
   ],
   "source": [
    "# 划分数值特征中的离散型变量与连续型变量\n",
    "# 划分数值型变量中的：连续变量和离散型变量\n",
    "def get_numerical_serial_fea(data,feas):\n",
    "    numerical_serial_fea = []                 # 连续变量\n",
    "    numerical_noserial_fea = []               # 离散变量\n",
    "    for fea in feas:\n",
    "        temp = data[fea].nunique()\n",
    "        if temp <= 10:\n",
    "            numerical_noserial_fea.append(fea)\n",
    "        else:\n",
    "            numerical_serial_fea.append(fea)\n",
    "    return numerical_serial_fea,numerical_noserial_fea\n",
    "numerical_serial_fea,numerical_noserial_fea = get_numerical_serial_fea(data_train,numerical_fea)\n",
    "print('连续型变量：',numerical_serial_fea)\n",
    "print('离散型变量：',numerical_noserial_fea)"
   ]
  },
  {
   "cell_type": "code",
   "execution_count": 67,
   "id": "3f1836f7",
   "metadata": {},
   "outputs": [],
   "source": [
    "# 特征的分布情况： 对于近似正态分布或者接近线性关系的特征，不一定需要进行分箱操作。但对于偏态分布或者存在非线性关系的特征，分箱操作可能会有所帮助。\n",
    "# 特征的重要性： 在特征选择过程中，通常会评估每个特征对目标变量的重要性。如果某个连续型数值特征对目标变量的影响较大，那么对其进行分箱操作可能会提高模型性能。\n",
    "# 对部分连续性变量进行分箱操作\n",
    "for data in [data_train, data_test_a]:\n",
    "    data['loanAmnt'] = pd.qcut(data['loanAmnt'], 10, labels=False)\n",
    "    data['interestRate'] = pd.qcut(data['interestRate'].rank(method='first'), 100, labels=False)\n",
    "    data['installment'] = pd.qcut(data['installment'], 100, labels=False)\n",
    "    data['annualIncome'] = pd.qcut(data['annualIncome'], 10, labels=False)\n",
    "    data['dti'] = pd.qcut(data['dti'], 100, labels=False)\n",
    "    data['revolUtil'] = pd.qcut(data['revolUtil'], 100, labels=False)"
   ]
  },
  {
   "cell_type": "code",
   "execution_count": 69,
   "id": "8888dcda",
   "metadata": {},
   "outputs": [],
   "source": [
    "data_train.to_csv('data/processed_train.csv',index=False, encoding='utf-8-sig')\n",
    "data_test_a.to_csv('data/processed_test.csv',index=False, encoding='utf-8-sig')"
   ]
  }
 ],
 "metadata": {
  "kernelspec": {
   "display_name": "LoanCom",
   "language": "python",
   "name": "python3"
  },
  "language_info": {
   "codemirror_mode": {
    "name": "ipython",
    "version": 3
   },
   "file_extension": ".py",
   "mimetype": "text/x-python",
   "name": "python",
   "nbconvert_exporter": "python",
   "pygments_lexer": "ipython3",
   "version": "3.8.20"
  }
 },
 "nbformat": 4,
 "nbformat_minor": 5
}
